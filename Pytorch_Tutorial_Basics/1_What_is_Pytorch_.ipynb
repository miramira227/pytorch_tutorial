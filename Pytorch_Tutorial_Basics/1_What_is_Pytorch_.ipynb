{
  "nbformat": 4,
  "nbformat_minor": 0,
  "metadata": {
    "colab": {
      "name": "1. What is Pytorch?",
      "provenance": [],
      "collapsed_sections": []
    },
    "kernelspec": {
      "name": "python3",
      "display_name": "Python 3"
    }
  },
  "cells": [
    {
      "cell_type": "markdown",
      "metadata": {
        "id": "SlVZG5IM9edL",
        "colab_type": "text"
      },
      "source": [
        "**1. What is Pytorch?**\n",
        "\n",
        "* Python based scientific computing package \n",
        "* Replacement for NumPy to use the power of GPU\n",
        "* maximum flexibility and speed "
      ]
    },
    {
      "cell_type": "markdown",
      "metadata": {
        "id": "CSTmT5AXrbzh",
        "colab_type": "text"
      },
      "source": [
        "**2. Getting Started**\n",
        "\n",
        "Tensors are similar to NumPy's ndarrays, with the additional being that \n",
        "* Tensors can also be used on a GPU to accelerate computing "
      ]
    },
    {
      "cell_type": "code",
      "metadata": {
        "id": "hmRfSnRSkHfO",
        "colab_type": "code",
        "outputId": "cc270520-2448-48f1-b72b-18b09f034f1d",
        "colab": {
          "base_uri": "https://localhost:8080/",
          "height": 104
        }
      },
      "source": [
        "from __future__ import print_function\n",
        "import torch\n",
        "\n",
        "# uninitialized\n",
        "x = torch.empty(5, 3)\n",
        "print(x)"
      ],
      "execution_count": 0,
      "outputs": [
        {
          "output_type": "stream",
          "text": [
            "tensor([[3.5632e-37, 0.0000e+00, 4.4842e-44],\n",
            "        [0.0000e+00,        nan, 3.6945e-02],\n",
            "        [2.1347e-07, 1.6782e-07, 6.4896e-10],\n",
            "        [2.6825e+23, 8.2358e-10, 1.6971e-07],\n",
            "        [4.2727e-05, 5.3776e+22, 9.0681e-01]])\n"
          ],
          "name": "stdout"
        }
      ]
    },
    {
      "cell_type": "code",
      "metadata": {
        "id": "7PMDHxsvkhIm",
        "colab_type": "code",
        "outputId": "db1ee77f-a227-4db5-dedd-20664fe4db03",
        "colab": {
          "base_uri": "https://localhost:8080/",
          "height": 104
        }
      },
      "source": [
        "# initialized(0~1)\n",
        "x = torch.rand(5, 3)\n",
        "print(x)"
      ],
      "execution_count": 0,
      "outputs": [
        {
          "output_type": "stream",
          "text": [
            "tensor([[0.6350, 0.1110, 0.6840],\n",
            "        [0.1264, 0.8355, 0.0249],\n",
            "        [0.6104, 0.2295, 0.6221],\n",
            "        [0.6417, 0.0576, 0.4074],\n",
            "        [0.3433, 0.4123, 0.6252]])\n"
          ],
          "name": "stdout"
        }
      ]
    },
    {
      "cell_type": "code",
      "metadata": {
        "id": "55PzVeNhS1DB",
        "colab_type": "code",
        "outputId": "562af763-cb76-4d4b-e334-649614ba38e1",
        "colab": {
          "base_uri": "https://localhost:8080/",
          "height": 104
        }
      },
      "source": [
        "# filled with zeros, dtype = long\n",
        "x = torch.zeros(5, 3, dtype=torch.long)\n",
        "print(x)"
      ],
      "execution_count": 0,
      "outputs": [
        {
          "output_type": "stream",
          "text": [
            "tensor([[0, 0, 0],\n",
            "        [0, 0, 0],\n",
            "        [0, 0, 0],\n",
            "        [0, 0, 0],\n",
            "        [0, 0, 0]])\n"
          ],
          "name": "stdout"
        }
      ]
    },
    {
      "cell_type": "code",
      "metadata": {
        "id": "bDjCZTSOS7-v",
        "colab_type": "code",
        "outputId": "42f03096-571a-4cc5-f4f9-c1d6331d4cd6",
        "colab": {
          "base_uri": "https://localhost:8080/",
          "height": 34
        }
      },
      "source": [
        "# directly from data \n",
        "x = torch.tensor([5.5, 3])\n",
        "print(x)"
      ],
      "execution_count": 0,
      "outputs": [
        {
          "output_type": "stream",
          "text": [
            "tensor([5.5000, 3.0000])\n"
          ],
          "name": "stdout"
        }
      ]
    },
    {
      "cell_type": "code",
      "metadata": {
        "id": "A0g97wZDTFQx",
        "colab_type": "code",
        "outputId": "a8ceb8f9-b374-4168-c891-23561424908f",
        "colab": {
          "base_uri": "https://localhost:8080/",
          "height": 192
        }
      },
      "source": [
        "# based on an existing tensor. \n",
        "# unless new values are provided by user, will reuse properties of the input tensor \n",
        "x = x.new_ones(5, 3, dtype=torch.double)\n",
        "print(x)\n",
        "\n",
        "x = torch.randn_like(x, dtype = torch.float)\n",
        "print(x)"
      ],
      "execution_count": 0,
      "outputs": [
        {
          "output_type": "stream",
          "text": [
            "tensor([[1., 1., 1.],\n",
            "        [1., 1., 1.],\n",
            "        [1., 1., 1.],\n",
            "        [1., 1., 1.],\n",
            "        [1., 1., 1.]], dtype=torch.float64)\n",
            "tensor([[ 0.0817,  1.9943, -0.7802],\n",
            "        [-0.8949,  0.9439, -1.4036],\n",
            "        [ 0.0651,  2.3613, -0.7846],\n",
            "        [ 0.7065,  1.2808, -1.4188],\n",
            "        [ 1.0613, -0.1899,  0.4224]])\n"
          ],
          "name": "stdout"
        }
      ]
    },
    {
      "cell_type": "code",
      "metadata": {
        "id": "ukQ-Ka_gV1p9",
        "colab_type": "code",
        "outputId": "3adf3ff7-b978-41d7-afa4-1d3f393f2503",
        "colab": {
          "base_uri": "https://localhost:8080/",
          "height": 34
        }
      },
      "source": [
        "# get the size. Since it is a tuple, it supports all tuple operations.\n",
        "print(x.size())"
      ],
      "execution_count": 0,
      "outputs": [
        {
          "output_type": "stream",
          "text": [
            "torch.Size([5, 3])\n"
          ],
          "name": "stdout"
        }
      ]
    },
    {
      "cell_type": "code",
      "metadata": {
        "id": "T_8x3SU4V63Z",
        "colab_type": "code",
        "outputId": "96897e1d-d0b4-4ef0-b2d1-de76e09c58d0",
        "colab": {
          "base_uri": "https://localhost:8080/",
          "height": 192
        }
      },
      "source": [
        "# tuple operations(1)\n",
        "y = torch.rand(5, 3)\n",
        "print(x + y)\n",
        "\n",
        "print(torch.add(x, y))"
      ],
      "execution_count": 0,
      "outputs": [
        {
          "output_type": "stream",
          "text": [
            "tensor([[ 0.6551,  2.8431,  0.1862],\n",
            "        [-0.7011,  1.6420, -1.1725],\n",
            "        [ 0.7323,  2.8433, -0.4262],\n",
            "        [ 1.1459,  1.5516, -1.1894],\n",
            "        [ 1.3686,  0.8082,  0.5569]])\n",
            "tensor([[ 0.6551,  2.8431,  0.1862],\n",
            "        [-0.7011,  1.6420, -1.1725],\n",
            "        [ 0.7323,  2.8433, -0.4262],\n",
            "        [ 1.1459,  1.5516, -1.1894],\n",
            "        [ 1.3686,  0.8082,  0.5569]])\n"
          ],
          "name": "stdout"
        }
      ]
    },
    {
      "cell_type": "code",
      "metadata": {
        "id": "WVpG2ScnWcQM",
        "colab_type": "code",
        "outputId": "6e9d0ca5-f587-45be-9eb3-4c749171cddc",
        "colab": {
          "base_uri": "https://localhost:8080/",
          "height": 192
        }
      },
      "source": [
        "# torch operations(2)\n",
        "result = torch.empty(5, 3)\n",
        "torch.add(x, y, out = result)\n",
        "print(result)\n",
        "\n",
        "# adds x to y\n",
        "y.add_(x)\n",
        "print(y)"
      ],
      "execution_count": 0,
      "outputs": [
        {
          "output_type": "stream",
          "text": [
            "tensor([[ 0.7367,  4.8374, -0.5940],\n",
            "        [-1.5960,  2.5859, -2.5761],\n",
            "        [ 0.7974,  5.2046, -1.2108],\n",
            "        [ 1.8524,  2.8324, -2.6082],\n",
            "        [ 2.4299,  0.6182,  0.9793]])\n",
            "tensor([[ 0.7367,  4.8374, -0.5940],\n",
            "        [-1.5960,  2.5859, -2.5761],\n",
            "        [ 0.7974,  5.2046, -1.2108],\n",
            "        [ 1.8524,  2.8324, -2.6082],\n",
            "        [ 2.4299,  0.6182,  0.9793]])\n"
          ],
          "name": "stdout"
        }
      ]
    },
    {
      "cell_type": "code",
      "metadata": {
        "id": "cNkPKk6bWrEU",
        "colab_type": "code",
        "outputId": "dcd11d04-f8aa-4cc2-8db6-c02ad2b87daa",
        "colab": {
          "base_uri": "https://localhost:8080/",
          "height": 34
        }
      },
      "source": [
        "# index like NumPy\n",
        "print(y[:, 1])"
      ],
      "execution_count": 0,
      "outputs": [
        {
          "output_type": "stream",
          "text": [
            "tensor([4.8374, 2.5859, 5.2046, 2.8324, 0.6182])\n"
          ],
          "name": "stdout"
        }
      ]
    },
    {
      "cell_type": "code",
      "metadata": {
        "id": "2LP0smmqt18i",
        "colab_type": "code",
        "outputId": "1ecd0405-2045-49bf-c625-ecf7e3c39092",
        "colab": {
          "base_uri": "https://localhost:8080/",
          "height": 34
        }
      },
      "source": [
        "# Resize with torch.view\n",
        "x = torch.randn(4, 4)\n",
        "y = x.view(16)\n",
        "z = x.view(-1, 8) # the size -1 is inferred from other dimensions\n",
        "print(x.size(), y.size(), z.size())"
      ],
      "execution_count": 0,
      "outputs": [
        {
          "output_type": "stream",
          "text": [
            "torch.Size([4, 4]) torch.Size([16]) torch.Size([2, 8])\n"
          ],
          "name": "stdout"
        }
      ]
    },
    {
      "cell_type": "code",
      "metadata": {
        "id": "_l25DBSyub6t",
        "colab_type": "code",
        "outputId": "ef3cef68-bc61-4730-aa64-bdac43ad1f64",
        "colab": {
          "base_uri": "https://localhost:8080/",
          "height": 52
        }
      },
      "source": [
        "# if the tensor has one element, use .item() to get the value as a Python number \n",
        "x = torch.randn(1)\n",
        "print(x)\n",
        "print(x.item())"
      ],
      "execution_count": 0,
      "outputs": [
        {
          "output_type": "stream",
          "text": [
            "tensor([1.4944])\n",
            "1.49442458152771\n"
          ],
          "name": "stdout"
        }
      ]
    },
    {
      "cell_type": "markdown",
      "metadata": {
        "id": "_HCxQdWmu6h8",
        "colab_type": "text"
      },
      "source": [
        "**3. NumPy Bridge**\n",
        "\n",
        "Converting a Torch Tensor to a NumPy array and vice versa.\n",
        "\n",
        "The Torch Tensor and NumPy array will share their underlying memory locations, and changing one will change the other. "
      ]
    },
    {
      "cell_type": "code",
      "metadata": {
        "id": "3m8TmVXsu0Sq",
        "colab_type": "code",
        "outputId": "dc6fff92-1c99-423f-bb9b-e7107958fbc0",
        "colab": {
          "base_uri": "https://localhost:8080/",
          "height": 52
        }
      },
      "source": [
        "# Converting a Torch Tensor to a NumPy Array \n",
        "a = torch.ones(5)\n",
        "print(a)\n",
        "\n",
        "b = a.numpy()\n",
        "print(b)"
      ],
      "execution_count": 0,
      "outputs": [
        {
          "output_type": "stream",
          "text": [
            "tensor([1., 1., 1., 1., 1.])\n",
            "[1. 1. 1. 1. 1.]\n"
          ],
          "name": "stdout"
        }
      ]
    },
    {
      "cell_type": "code",
      "metadata": {
        "id": "ffGyRnjhvcz_",
        "colab_type": "code",
        "outputId": "37fb96b4-ab64-4034-dc12-edaa44431efb",
        "colab": {
          "base_uri": "https://localhost:8080/",
          "height": 52
        }
      },
      "source": [
        "# Adding 1 to the Torch Tensor affects the numpy array \n",
        "a.add_(1)\n",
        "print(a)\n",
        "print(b)"
      ],
      "execution_count": 0,
      "outputs": [
        {
          "output_type": "stream",
          "text": [
            "tensor([3., 3., 3., 3., 3.])\n",
            "[3. 3. 3. 3. 3.]\n"
          ],
          "name": "stdout"
        }
      ]
    },
    {
      "cell_type": "code",
      "metadata": {
        "id": "ja2B5_xJvgGL",
        "colab_type": "code",
        "outputId": "f5ad954b-662c-48a8-a233-9f87a69458dd",
        "colab": {
          "base_uri": "https://localhost:8080/",
          "height": 52
        }
      },
      "source": [
        "# Converting NumPy ARray to Torch Tensor \n",
        "import numpy as np \n",
        "\n",
        "a = np.ones(5)\n",
        "b = torch.from_numpy(a)\n",
        "np.add(a, 1, out=a)\n",
        "# a = np.add(a, 1) <-- only the NumPy value changes \n",
        "print(a)\n",
        "print(b)"
      ],
      "execution_count": 0,
      "outputs": [
        {
          "output_type": "stream",
          "text": [
            "[2. 2. 2. 2. 2.]\n",
            "tensor([2., 2., 2., 2., 2.], dtype=torch.float64)\n"
          ],
          "name": "stdout"
        }
      ]
    },
    {
      "cell_type": "markdown",
      "metadata": {
        "id": "McmlZ48405cg",
        "colab_type": "text"
      },
      "source": [
        "**4. CUDA Tensors**\n",
        "\n",
        "Run this cell only if CUDA is available\n",
        "\n",
        "with torch.cuda : implement the same function as CPU tensors, but they utilize GPUs for computation. "
      ]
    },
    {
      "cell_type": "code",
      "metadata": {
        "id": "uqt446sh0zss",
        "colab_type": "code",
        "colab": {}
      },
      "source": [
        "if torch.cuda.is_available():\n",
        "    device = torch.device(\"cuda\")              # a CUDA device object\n",
        "    y = torch.ones_like(x, device=device)      # directly create tensor on GPU\n",
        "    x = x.to(device)                           # or just use strings ''.to(\"cuda\")\n",
        "    z = x + y\n",
        "    print(z)\n",
        "    print(z.to(\"cpu\", torch.double))"
      ],
      "execution_count": 0,
      "outputs": []
    }
  ]
}