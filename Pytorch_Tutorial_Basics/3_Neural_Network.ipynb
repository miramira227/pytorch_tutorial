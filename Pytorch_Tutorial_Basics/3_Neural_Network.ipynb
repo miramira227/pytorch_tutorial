{
  "nbformat": 4,
  "nbformat_minor": 0,
  "metadata": {
    "colab": {
      "name": "3. Neural Network",
      "provenance": [],
      "collapsed_sections": []
    },
    "kernelspec": {
      "name": "python3",
      "display_name": "Python 3"
    }
  },
  "cells": [
    {
      "cell_type": "markdown",
      "metadata": {
        "id": "uf_NqbhO0PjX",
        "colab_type": "text"
      },
      "source": [
        "**3. Neural Network**\n",
        "\n",
        "Neural networks can be constructed using the ``torch.nn`` package. \n",
        "\n",
        "An ``nn.Module`` contains layers, and a method ``forward(input)`` that returns ``output``. "
      ]
    },
    {
      "cell_type": "code",
      "metadata": {
        "id": "SHZjgLt-0L1z",
        "colab_type": "code",
        "outputId": "d5aeafba-f2c1-4a97-c3f1-d10a65478f56",
        "colab": {
          "base_uri": "https://localhost:8080/",
          "height": 139
        }
      },
      "source": [
        "# Define the network \n",
        "import torch \n",
        "import torch.nn as nn\n",
        "import torch.nn.functional as F\n",
        "\n",
        "class Net(nn.Module):\n",
        "    def __init__(self):\n",
        "        super(Net, self).__init__()\n",
        "        self.conv1 = nn.Conv2d(1, 6, 5)\n",
        "        # 1 input image channel, 6 output image channels, 5x5 square convolutional kernel\n",
        "        self.conv2 = nn.Conv2d(6, 16, 5)\n",
        "        self.fc1 = nn.Linear(16 * 5 * 5, 120)\n",
        "        self.fc2 = nn.Linear(120, 84)\n",
        "        self.fc3 = nn.Linear(84, 10)\n",
        "\n",
        "    def forward(self, x):\n",
        "        x = F.max_pool2d(F.relu(self.conv1(x)), (2, 2))     # (2, 2) window로 Max Pooling\n",
        "        x = F.max_pool2d(F.relu(self.conv2(x)), 2)          # size가 square면 편하게 숫자 하나만 써도 가능 \n",
        "        x = x.view(-1, self.num_flat_features(x))\n",
        "        x = F.relu(self.fc1(x))\n",
        "        x = F.relu(self.fc2(x))\n",
        "        x = self.fc3(x)\n",
        "        return x \n",
        "\n",
        "    def num_flat_features(self, x):\n",
        "        size = x.size()[1:]             # all dimensions except batch dimension\n",
        "        num_features = 1\n",
        "        for s in size:\n",
        "            num_features *= s\n",
        "        return num_features \n",
        "\n",
        "net = Net()\n",
        "print(net)"
      ],
      "execution_count": 0,
      "outputs": [
        {
          "output_type": "stream",
          "text": [
            "Net(\n",
            "  (conv1): Conv2d(1, 6, kernel_size=(5, 5), stride=(1, 1))\n",
            "  (conv2): Conv2d(6, 16, kernel_size=(5, 5), stride=(1, 1))\n",
            "  (fc1): Linear(in_features=400, out_features=120, bias=True)\n",
            "  (fc2): Linear(in_features=120, out_features=84, bias=True)\n",
            "  (fc3): Linear(in_features=84, out_features=10, bias=True)\n",
            ")\n"
          ],
          "name": "stdout"
        }
      ]
    },
    {
      "cell_type": "code",
      "metadata": {
        "id": "Lgc4mo7G3S8r",
        "colab_type": "code",
        "outputId": "2e5d4631-96f0-4e0f-9742-5b48754cad42",
        "colab": {
          "base_uri": "https://localhost:8080/",
          "height": 52
        }
      },
      "source": [
        "# The learnable parameters of a model are returned by ``net.parameters()``\n",
        "\n",
        "params = list(net.parameters())\n",
        "print(len(params))\n",
        "print(params[0].size())     # conv1d's weight"
      ],
      "execution_count": 0,
      "outputs": [
        {
          "output_type": "stream",
          "text": [
            "10\n",
            "torch.Size([6, 1, 5, 5])\n"
          ],
          "name": "stdout"
        }
      ]
    },
    {
      "cell_type": "code",
      "metadata": {
        "id": "T_pOcrUo3c6M",
        "colab_type": "code",
        "outputId": "ed0ff313-45b6-44ff-9c1c-2fbede71a1f8",
        "colab": {
          "base_uri": "https://localhost:8080/",
          "height": 69
        }
      },
      "source": [
        "# Let us try a random 32 x 32 input. \n",
        "input = torch.randn(1, 1, 32, 32)\n",
        "out = net(input)\n",
        "print(out)\n",
        "print(input.size())"
      ],
      "execution_count": 0,
      "outputs": [
        {
          "output_type": "stream",
          "text": [
            "tensor([[-0.0535, -0.0913,  0.1465, -0.0316, -0.1683,  0.0250, -0.2473,  0.1078,\n",
            "          0.0998, -0.1622]], grad_fn=<AddmmBackward>)\n",
            "torch.Size([1, 1, 32, 32])\n"
          ],
          "name": "stdout"
        }
      ]
    },
    {
      "cell_type": "code",
      "metadata": {
        "id": "wGppHSNV36XZ",
        "colab_type": "code",
        "colab": {}
      },
      "source": [
        "# Zero the gradient buffers of all params and backprops with random grads: \n",
        "net.zero_grad()\n",
        "out.backward(torch.randn(1, 10))"
      ],
      "execution_count": 0,
      "outputs": []
    },
    {
      "cell_type": "markdown",
      "metadata": {
        "id": "K4dJxDz443Iy",
        "colab_type": "text"
      },
      "source": [
        "**NOTE**\n",
        "\n",
        "``torch.nn`` only supports mini-batches. The entire ``torch.nn`` package only supports inputs that are a mini-batch of samples, and not a single sample. \n",
        "\n",
        "For example, ``nn.Conv2d`` will take in a 4D Tensor of ``nSamples x nChannels x Height x Width``.\n",
        "\n",
        "If you have a single sample, just use ``input.unsqueeze(0)`` to add a fake batch dimension.  "
      ]
    },
    {
      "cell_type": "markdown",
      "metadata": {
        "id": "gROAh-hc8pW7",
        "colab_type": "text"
      },
      "source": [
        "**Loss Function**\n",
        "\n",
        "A loss function takes the (output, target) pair of inputs, and computes a value that estimates how far away the output is from the target. "
      ]
    },
    {
      "cell_type": "code",
      "metadata": {
        "id": "LmMqNYUT40KI",
        "colab_type": "code",
        "outputId": "35c3ac86-05fc-4603-c3ee-4e3f7cff837b",
        "colab": {
          "base_uri": "https://localhost:8080/",
          "height": 34
        }
      },
      "source": [
        "output = net(input)\n",
        "target = torch.randn(10)\n",
        "target = target.view(1, -1)         # make it the same shape as output\n",
        "criterion = nn.MSELoss()\n",
        "\n",
        "loss = criterion(output, target)\n",
        "print(loss)\n"
      ],
      "execution_count": 0,
      "outputs": [
        {
          "output_type": "stream",
          "text": [
            "tensor(0.6852, grad_fn=<MseLossBackward>)\n"
          ],
          "name": "stdout"
        }
      ]
    },
    {
      "cell_type": "markdown",
      "metadata": {
        "id": "R4AqtrX79zlL",
        "colab_type": "text"
      },
      "source": [
        "When we call ``loss.backward()``, the whole graph is differentiated w.r.t. the loss, and all Tensors in the graph that has ``requires_grad=True`` will have their ``.grad`` Tensor accumulated with the gradient "
      ]
    },
    {
      "cell_type": "code",
      "metadata": {
        "id": "6DVDIQ9B9K1T",
        "colab_type": "code",
        "outputId": "e59c68f3-99fb-4e33-ef5e-de59477cc3fb",
        "colab": {
          "base_uri": "https://localhost:8080/",
          "height": 69
        }
      },
      "source": [
        "print(loss.grad_fn)     # MSELoss\n",
        "print(loss.grad_fn.next_functions[0][0])        # Linear\n",
        "print(loss.grad_fn.next_functions[0][0].next_functions[0][0])       # ReLU"
      ],
      "execution_count": 0,
      "outputs": [
        {
          "output_type": "stream",
          "text": [
            "<MseLossBackward object at 0x7f5117305978>\n",
            "<AddmmBackward object at 0x7f5117305a58>\n",
            "<AccumulateGrad object at 0x7f51173b4fd0>\n"
          ],
          "name": "stdout"
        }
      ]
    },
    {
      "cell_type": "markdown",
      "metadata": {
        "id": "FH0_AU_-AyDP",
        "colab_type": "text"
      },
      "source": [
        "**Backprop**\n",
        "\n",
        "To backpropagate the error all we have to do is to ``loss.backward()``. \n",
        "\n",
        "You need to clear the existing gradients though, else gradients will be accumulated to existing gradients. "
      ]
    },
    {
      "cell_type": "code",
      "metadata": {
        "id": "s_pakC32-ZTh",
        "colab_type": "code",
        "outputId": "709d6b61-40ed-426f-b0d2-30992ab544de",
        "colab": {
          "base_uri": "https://localhost:8080/",
          "height": 104
        }
      },
      "source": [
        "net.zero_grad()                 # zeroes the gradient buffers of all parameters \n",
        "\n",
        "print('conv1.bias.grad before backward')\n",
        "print(net.conv1.bias.grad)\n",
        "\n",
        "loss.backward()\n",
        "\n",
        "print('conv1.bias.grad after backward')\n",
        "print(net.conv1.bias.grad)"
      ],
      "execution_count": 0,
      "outputs": [
        {
          "output_type": "stream",
          "text": [
            "conv1.bias.grad before backward\n",
            "tensor([0., 0., 0., 0., 0., 0.])\n",
            "conv1.bias.grad after backward\n",
            "tensor([-1.7151e-02, -8.7118e-03, -1.2276e-02,  3.8387e-05, -7.8521e-03,\n",
            "        -4.9987e-02])\n"
          ],
          "name": "stdout"
        }
      ]
    },
    {
      "cell_type": "markdown",
      "metadata": {
        "id": "q490u2DyBiju",
        "colab_type": "text"
      },
      "source": [
        "**Update the weights**\n",
        "\n",
        "The simplest update rule used in practice is the Stochastic Gradient Descent (SGD)\n",
        "\n",
        "``weight = weight - learning rate * \n",
        "gradient``\n"
      ]
    },
    {
      "cell_type": "code",
      "metadata": {
        "id": "jiJsQWCt-YCU",
        "colab_type": "code",
        "colab": {}
      },
      "source": [
        "# By Python code \n",
        "\n",
        "learning_rate = 0.01\n",
        "for f in net.parameters():\n",
        "    f.data.sub_(f.grad.data * learning_rate)"
      ],
      "execution_count": 0,
      "outputs": []
    },
    {
      "cell_type": "code",
      "metadata": {
        "id": "cQVjAVcWCLZ4",
        "colab_type": "code",
        "colab": {}
      },
      "source": [
        "# To use various different update rules such as SGD, Nesterov-SGD, Adam, RMSProp, etc. \n",
        "\n",
        "import torch.optim as optim\n",
        "\n",
        "optimizer = optim.SGD(net.parameters(), lr = 0.01)\n",
        "\n",
        "# training loop 안에서 \n",
        "optimizer.zero_grad()           # zero the gradient buffers \n",
        "output = net(input)\n",
        "loss = criterion(output, target)\n",
        "loss.backward()\n",
        "optimizer.step()"
      ],
      "execution_count": 0,
      "outputs": []
    },
    {
      "cell_type": "code",
      "metadata": {
        "id": "Y1w7Lx4KC2LM",
        "colab_type": "code",
        "colab": {}
      },
      "source": [
        ""
      ],
      "execution_count": 0,
      "outputs": []
    }
  ]
}